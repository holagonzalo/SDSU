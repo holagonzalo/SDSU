{
 "metadata": {
  "name": "",
  "signature": "sha256:82ccb93f36527888cdf0211bbdeef957aabd32952fc5b3305462391aa9a5fd70"
 },
 "nbformat": 3,
 "nbformat_minor": 0,
 "worksheets": [
  {
   "cells": [
    {
     "cell_type": "code",
     "collapsed": false,
     "input": [
      "%matplotlib inline\n",
      "from scipy import stats\n",
      "import matplotlib.pyplot as plt\n",
      "import numpy as np\n",
      "import matplotlib as mpl\n",
      "import pandas as pd\n",
      "from IPython.core.display import HTML\n",
      "radondf = pd.read_csv('radon.csv')\n",
      "del radondf['countynum']"
     ],
     "language": "python",
     "metadata": {},
     "outputs": [],
     "prompt_number": 560
    },
    {
     "cell_type": "markdown",
     "metadata": {},
     "source": [
      "Data Analysis Project STAT560\n",
      "========================================================\n",
      "\n",
      "Survey Design:\n",
      "\n",
      "- Sampling Frame: Houses with permanent foundations, at least one floor at or below ground level, and ownered occupied with listed telephone number.\n",
      "\n",
      "- Target Population: All occupied residences.\n",
      "\n",
      "- Stratification by County: SRS in each county.\n",
      "\n",
      "### Minimum requirements\n",
      "\n",
      "\n",
      "**Sample-based Model**: In the Investigations portion of the chapter, complete bullets 1, 2, and 5 under The Sample-based Model. For the map (bullet 5), you may copy Figure 3.3 and color by hand. \n",
      "\n",
      "**1. Use the number of houses in the sample with radon levels that exceed 4 pCi/l to estimate the proportion of houses in the state that exceed this level. Keep in mind the sampling scheme when creating the estimate. That is, in some counties one sampled house represents 500 houses and in other counties one house represents 10,000 houses.**"
     ]
    },
    {
     "cell_type": "code",
     "collapsed": false,
     "input": [
      "plus4 = radondf.radon>4\n",
      "count = radondf[plus4].groupby('countyname').count()\n",
      "mean = radondf[plus4].groupby('countyname').median()\n",
      "countcounty = count.sampsize\n",
      "df = radondf[plus4].groupby('countyname').mean()\n",
      "\n",
      "df['counts'] = countcounty\n",
      "df['ph'] = df.counts / df.sampsize\n",
      "df.columns = ['n_h','Nh','avg_radon','counts','ph']\n",
      "\n",
      "df['NhdivN']= df.Nh / df.Nh.sum() \n",
      "df['p_strat']= df.NhdivN * df.ph\n",
      "df.head()"
     ],
     "language": "python",
     "metadata": {},
     "outputs": [
      {
       "html": [
        "<div style=\"max-height:1000px;max-width:1500px;overflow:auto;\">\n",
        "<table border=\"1\" class=\"dataframe\">\n",
        "  <thead>\n",
        "    <tr style=\"text-align: right;\">\n",
        "      <th></th>\n",
        "      <th>n_h</th>\n",
        "      <th>Nh</th>\n",
        "      <th>avg_radon</th>\n",
        "      <th>counts</th>\n",
        "      <th>ph</th>\n",
        "      <th>NhdivN</th>\n",
        "      <th>p_strat</th>\n",
        "    </tr>\n",
        "    <tr>\n",
        "      <th>countyname</th>\n",
        "      <th></th>\n",
        "      <th></th>\n",
        "      <th></th>\n",
        "      <th></th>\n",
        "      <th></th>\n",
        "      <th></th>\n",
        "      <th></th>\n",
        "    </tr>\n",
        "  </thead>\n",
        "  <tbody>\n",
        "    <tr>\n",
        "      <th>Anoka</th>\n",
        "      <td> 57</td>\n",
        "      <td> 71900</td>\n",
        "      <td> 6.217647</td>\n",
        "      <td> 17</td>\n",
        "      <td> 0.298246</td>\n",
        "      <td> 0.049899</td>\n",
        "      <td> 0.014882</td>\n",
        "    </tr>\n",
        "    <tr>\n",
        "      <th>Becker</th>\n",
        "      <td>  4</td>\n",
        "      <td> 11000</td>\n",
        "      <td> 4.400000</td>\n",
        "      <td>  2</td>\n",
        "      <td> 0.500000</td>\n",
        "      <td> 0.007634</td>\n",
        "      <td> 0.003817</td>\n",
        "    </tr>\n",
        "    <tr>\n",
        "      <th>Beltrami</th>\n",
        "      <td>  7</td>\n",
        "      <td> 11500</td>\n",
        "      <td> 5.300000</td>\n",
        "      <td>  4</td>\n",
        "      <td> 0.571429</td>\n",
        "      <td> 0.007981</td>\n",
        "      <td> 0.004561</td>\n",
        "    </tr>\n",
        "    <tr>\n",
        "      <th>Benton</th>\n",
        "      <td>  4</td>\n",
        "      <td>  9500</td>\n",
        "      <td> 6.600000</td>\n",
        "      <td>  1</td>\n",
        "      <td> 0.250000</td>\n",
        "      <td> 0.006593</td>\n",
        "      <td> 0.001648</td>\n",
        "    </tr>\n",
        "    <tr>\n",
        "      <th>Big Stone</th>\n",
        "      <td>  3</td>\n",
        "      <td>  2900</td>\n",
        "      <td> 6.100000</td>\n",
        "      <td>  2</td>\n",
        "      <td> 0.666667</td>\n",
        "      <td> 0.002013</td>\n",
        "      <td> 0.001342</td>\n",
        "    </tr>\n",
        "  </tbody>\n",
        "</table>\n",
        "</div>"
       ],
       "metadata": {},
       "output_type": "pyout",
       "prompt_number": 563,
       "text": [
        "            n_h     Nh  avg_radon  counts        ph    NhdivN   p_strat\n",
        "countyname                                                             \n",
        "Anoka        57  71900   6.217647      17  0.298246  0.049899  0.014882\n",
        "Becker        4  11000   4.400000       2  0.500000  0.007634  0.003817\n",
        "Beltrami      7  11500   5.300000       4  0.571429  0.007981  0.004561\n",
        "Benton        4   9500   6.600000       1  0.250000  0.006593  0.001648\n",
        "Big Stone     3   2900   6.100000       2  0.666667  0.002013  0.001342"
       ]
      }
     ],
     "prompt_number": 563
    },
    {
     "cell_type": "code",
     "collapsed": false,
     "input": [
      "print \"Sum of Nh = N =\", df.Nh.sum() "
     ],
     "language": "python",
     "metadata": {},
     "outputs": [
      {
       "output_type": "stream",
       "stream": "stdout",
       "text": [
        "Sum of Nh = N = 1440900\n"
       ]
      }
     ],
     "prompt_number": 564
    },
    {
     "cell_type": "code",
     "collapsed": false,
     "input": [
      "print \"Proportion of houses in MN that with radon>4 = \",round(df.p_strat.sum(),3)"
     ],
     "language": "python",
     "metadata": {},
     "outputs": [
      {
       "output_type": "stream",
       "stream": "stdout",
       "text": [
        "Proportion of houses in MN that with radon>4 =  0.487\n"
       ]
      }
     ],
     "prompt_number": 565
    },
    {
     "cell_type": "markdown",
     "metadata": {},
     "source": [
      "**2. Attach standard errors to your estimate, or provide an interval estimate for the proportion of houses in Minnesota that exceed 4pCi/l.**\n",
      "\n"
     ]
    },
    {
     "cell_type": "code",
     "collapsed": false,
     "input": [
      "df['SEpstr']= np.sqrt((1-df.n_h/df.Nh)*(df.Nh/df.Nh.sum())*(df.Nh/df.Nh.sum())*(df.ph*(1-df.ph))/(df.n_h-1))\n",
      "from numpy import inf\n",
      "df[df.SEpstr == inf] = 0\n",
      "df.head()"
     ],
     "language": "python",
     "metadata": {},
     "outputs": [
      {
       "html": [
        "<div style=\"max-height:1000px;max-width:1500px;overflow:auto;\">\n",
        "<table border=\"1\" class=\"dataframe\">\n",
        "  <thead>\n",
        "    <tr style=\"text-align: right;\">\n",
        "      <th></th>\n",
        "      <th>n_h</th>\n",
        "      <th>Nh</th>\n",
        "      <th>avg_radon</th>\n",
        "      <th>counts</th>\n",
        "      <th>ph</th>\n",
        "      <th>NhdivN</th>\n",
        "      <th>p_strat</th>\n",
        "      <th>SEpstr</th>\n",
        "    </tr>\n",
        "    <tr>\n",
        "      <th>countyname</th>\n",
        "      <th></th>\n",
        "      <th></th>\n",
        "      <th></th>\n",
        "      <th></th>\n",
        "      <th></th>\n",
        "      <th></th>\n",
        "      <th></th>\n",
        "      <th></th>\n",
        "    </tr>\n",
        "  </thead>\n",
        "  <tbody>\n",
        "    <tr>\n",
        "      <th>Anoka</th>\n",
        "      <td> 57</td>\n",
        "      <td> 71900</td>\n",
        "      <td> 6.217647</td>\n",
        "      <td> 17</td>\n",
        "      <td> 0.298246</td>\n",
        "      <td> 0.049899</td>\n",
        "      <td> 0.014882</td>\n",
        "      <td> 0.003049</td>\n",
        "    </tr>\n",
        "    <tr>\n",
        "      <th>Becker</th>\n",
        "      <td>  4</td>\n",
        "      <td> 11000</td>\n",
        "      <td> 4.400000</td>\n",
        "      <td>  2</td>\n",
        "      <td> 0.500000</td>\n",
        "      <td> 0.007634</td>\n",
        "      <td> 0.003817</td>\n",
        "      <td> 0.002203</td>\n",
        "    </tr>\n",
        "    <tr>\n",
        "      <th>Beltrami</th>\n",
        "      <td>  7</td>\n",
        "      <td> 11500</td>\n",
        "      <td> 5.300000</td>\n",
        "      <td>  4</td>\n",
        "      <td> 0.571429</td>\n",
        "      <td> 0.007981</td>\n",
        "      <td> 0.004561</td>\n",
        "      <td> 0.001612</td>\n",
        "    </tr>\n",
        "    <tr>\n",
        "      <th>Benton</th>\n",
        "      <td>  4</td>\n",
        "      <td>  9500</td>\n",
        "      <td> 6.600000</td>\n",
        "      <td>  1</td>\n",
        "      <td> 0.250000</td>\n",
        "      <td> 0.006593</td>\n",
        "      <td> 0.001648</td>\n",
        "      <td> 0.001648</td>\n",
        "    </tr>\n",
        "    <tr>\n",
        "      <th>Big Stone</th>\n",
        "      <td>  3</td>\n",
        "      <td>  2900</td>\n",
        "      <td> 6.100000</td>\n",
        "      <td>  2</td>\n",
        "      <td> 0.666667</td>\n",
        "      <td> 0.002013</td>\n",
        "      <td> 0.001342</td>\n",
        "      <td> 0.000671</td>\n",
        "    </tr>\n",
        "  </tbody>\n",
        "</table>\n",
        "</div>"
       ],
       "metadata": {},
       "output_type": "pyout",
       "prompt_number": 566,
       "text": [
        "            n_h     Nh  avg_radon  counts        ph    NhdivN   p_strat  \\\n",
        "countyname                                                                \n",
        "Anoka        57  71900   6.217647      17  0.298246  0.049899  0.014882   \n",
        "Becker        4  11000   4.400000       2  0.500000  0.007634  0.003817   \n",
        "Beltrami      7  11500   5.300000       4  0.571429  0.007981  0.004561   \n",
        "Benton        4   9500   6.600000       1  0.250000  0.006593  0.001648   \n",
        "Big Stone     3   2900   6.100000       2  0.666667  0.002013  0.001342   \n",
        "\n",
        "              SEpstr  \n",
        "countyname            \n",
        "Anoka       0.003049  \n",
        "Becker      0.002203  \n",
        "Beltrami    0.001612  \n",
        "Benton      0.001648  \n",
        "Big Stone   0.000671  "
       ]
      }
     ],
     "prompt_number": 566
    },
    {
     "cell_type": "code",
     "collapsed": false,
     "input": [
      "print \"Standard Error = \",df.SEpstr.sum()"
     ],
     "language": "python",
     "metadata": {},
     "outputs": [
      {
       "output_type": "stream",
       "stream": "stdout",
       "text": [
        "Standard Error =  0.104908828472\n"
       ]
      }
     ],
     "prompt_number": 567
    },
    {
     "cell_type": "markdown",
     "metadata": {},
     "source": [
      "**3. Using estimates from each county, create a map indicating levels of radon concentration. What do you conclude about the greographical distribution of radon concentration? What factors limit the validity of your conclusions?**"
     ]
    },
    {
     "cell_type": "code",
     "collapsed": false,
     "input": [
      "leveldf = radondf.groupby('countyname').mean()\n",
      "leveldf.to_csv('leveldf.csv')\n",
      "leveldf.head()"
     ],
     "language": "python",
     "metadata": {},
     "outputs": [
      {
       "html": [
        "<div style=\"max-height:1000px;max-width:1500px;overflow:auto;\">\n",
        "<table border=\"1\" class=\"dataframe\">\n",
        "  <thead>\n",
        "    <tr style=\"text-align: right;\">\n",
        "      <th></th>\n",
        "      <th>sampsize</th>\n",
        "      <th>popsize</th>\n",
        "      <th>radon</th>\n",
        "    </tr>\n",
        "    <tr>\n",
        "      <th>countyname</th>\n",
        "      <th></th>\n",
        "      <th></th>\n",
        "      <th></th>\n",
        "    </tr>\n",
        "  </thead>\n",
        "  <tbody>\n",
        "    <tr>\n",
        "      <th>Aitkin</th>\n",
        "      <td>  4</td>\n",
        "      <td>  5400</td>\n",
        "      <td> 2.075000</td>\n",
        "    </tr>\n",
        "    <tr>\n",
        "      <th>Anoka</th>\n",
        "      <td> 57</td>\n",
        "      <td> 71900</td>\n",
        "      <td> 3.212281</td>\n",
        "    </tr>\n",
        "    <tr>\n",
        "      <th>Becker</th>\n",
        "      <td>  4</td>\n",
        "      <td> 11000</td>\n",
        "      <td> 3.175000</td>\n",
        "    </tr>\n",
        "    <tr>\n",
        "      <th>Beltrami</th>\n",
        "      <td>  7</td>\n",
        "      <td> 11500</td>\n",
        "      <td> 3.657143</td>\n",
        "    </tr>\n",
        "    <tr>\n",
        "      <th>Benton</th>\n",
        "      <td>  4</td>\n",
        "      <td>  9500</td>\n",
        "      <td> 3.775000</td>\n",
        "    </tr>\n",
        "  </tbody>\n",
        "</table>\n",
        "</div>"
       ],
       "metadata": {},
       "output_type": "pyout",
       "prompt_number": 568,
       "text": [
        "            sampsize  popsize     radon\n",
        "countyname                             \n",
        "Aitkin             4     5400  2.075000\n",
        "Anoka             57    71900  3.212281\n",
        "Becker             4    11000  3.175000\n",
        "Beltrami           7    11500  3.657143\n",
        "Benton             4     9500  3.775000"
       ]
      }
     ],
     "prompt_number": 568
    },
    {
     "cell_type": "code",
     "collapsed": false,
     "input": [
      "leveldf.boxplot(column='radon')\n",
      "leveldf.radon.describe()"
     ],
     "language": "python",
     "metadata": {},
     "outputs": [
      {
       "metadata": {},
       "output_type": "pyout",
       "prompt_number": 569,
       "text": [
        "count    85.000000\n",
        "mean      5.287740\n",
        "std       2.462004\n",
        "min       1.800000\n",
        "25%       3.212281\n",
        "50%       4.858000\n",
        "75%       6.875000\n",
        "max      13.650000\n",
        "dtype: float64"
       ]
      },
      {
       "metadata": {},
       "output_type": "display_data",
       "png": "[encoded data removed]",
       "text": [
        "<matplotlib.figure.Figure at 0x111c10390>"
       ]
      }
     ],
     "prompt_number": 569
    },
    {
     "cell_type": "code",
     "collapsed": false,
     "input": [
      "HTML(\"\"\"\n",
      "<iframe width=\"800\" height=\"600\" scrolling=\"no\" frameborder=\"no\" src=\"https://www.google.com/fusiontables/embedviz?q=select+col4%3E%3E1+from+1lJ0Z6H1qfIJfUSpQUlWD-nEsKOIsnco8accTG0nj&amp;viz=MAP&amp;h=false&amp;lat=46.370086016056355&amp;lng=-93.23390234375&amp;t=1&amp;z=6&amp;l=col4%3E%3E1&amp;y=2&amp;tmplt=2&amp;hml=KML\"></iframe>\n",
      "\"\"\")\n",
      "\n"
     ],
     "language": "python",
     "metadata": {},
     "outputs": [
      {
       "html": [
        "\n",
        "<iframe width=\"800\" height=\"600\" scrolling=\"no\" frameborder=\"no\" src=\"https://www.google.com/fusiontables/embedviz?q=select+col4%3E%3E1+from+1lJ0Z6H1qfIJfUSpQUlWD-nEsKOIsnco8accTG0nj&amp;viz=MAP&amp;h=false&amp;lat=46.370086016056355&amp;lng=-93.23390234375&amp;t=1&amp;z=6&amp;l=col4%3E%3E1&amp;y=2&amp;tmplt=2&amp;hml=KML\"></iframe>\n"
       ],
       "metadata": {},
       "output_type": "pyout",
       "prompt_number": 581,
       "text": [
        "<IPython.core.display.HTML at 0x112fd38d0>"
       ]
      }
     ],
     "prompt_number": 581
    },
    {
     "cell_type": "markdown",
     "metadata": {},
     "source": [
      "##Model-based Estimation\n",
      "\n",
      "**1. Examine the data from a heavily sampled county, such as Hennepin, to determine how well the data fit the lognormal distribution. To do this, consider graphical methods and statistical tests to assess the fit. Also, note that fitting the lognormal distribution to radon concentration is similar to fitting the normal distribution to the log concentrations. The data are truncated on the left due to limitations of the measurement process. That is, measurements below 0.5 pCi/l are reported as 0.5 pCi/l.** \n",
      "\n",
      "**How might this truncation affect estimates of the mean and SD?**\n",
      "\n",
      "- Estimate of mean: smaller than real value.\n",
      "- Estimate of SD: larger than real value.\n",
      "\n",
      "**Consider adjusting the estimates to compensate for the truncation.** "
     ]
    },
    {
     "cell_type": "code",
     "collapsed": false,
     "input": [
      "import math\n",
      "hennepin = radondf.countyname=='Hennepin'\n",
      "hendf = radondf[hennepin]\n",
      "hendf['logradon']= np.log(hendf.radon)\n",
      "\n",
      "# Adjusting Radon < 0.5 to 0 to estimate lower bound.\n",
      "hendf_low = hendf.radon.replace(0.5, 0)\n",
      "hendf['radon_lowbound']= hendf_low\n",
      "hendf.describe()"
     ],
     "language": "python",
     "metadata": {},
     "outputs": [
      {
       "html": [
        "<div style=\"max-height:1000px;max-width:1500px;overflow:auto;\">\n",
        "<table border=\"1\" class=\"dataframe\">\n",
        "  <thead>\n",
        "    <tr style=\"text-align: right;\">\n",
        "      <th></th>\n",
        "      <th>sampsize</th>\n",
        "      <th>popsize</th>\n",
        "      <th>radon</th>\n",
        "      <th>logradon</th>\n",
        "      <th>radon_lowbound</th>\n",
        "    </tr>\n",
        "  </thead>\n",
        "  <tbody>\n",
        "    <tr>\n",
        "      <th>count</th>\n",
        "      <td> 119</td>\n",
        "      <td>    119</td>\n",
        "      <td> 119.000000</td>\n",
        "      <td> 119.000000</td>\n",
        "      <td> 119.000000</td>\n",
        "    </tr>\n",
        "    <tr>\n",
        "      <th>mean</th>\n",
        "      <td> 119</td>\n",
        "      <td> 392500</td>\n",
        "      <td>   4.640336</td>\n",
        "      <td>   1.315023</td>\n",
        "      <td>   4.631933</td>\n",
        "    </tr>\n",
        "    <tr>\n",
        "      <th>std</th>\n",
        "      <td>   0</td>\n",
        "      <td>      0</td>\n",
        "      <td>   3.396616</td>\n",
        "      <td>   0.684494</td>\n",
        "      <td>   3.407542</td>\n",
        "    </tr>\n",
        "    <tr>\n",
        "      <th>min</th>\n",
        "      <td> 119</td>\n",
        "      <td> 392500</td>\n",
        "      <td>   0.500000</td>\n",
        "      <td>  -0.693147</td>\n",
        "      <td>   0.000000</td>\n",
        "    </tr>\n",
        "    <tr>\n",
        "      <th>25%</th>\n",
        "      <td> 119</td>\n",
        "      <td> 392500</td>\n",
        "      <td>   2.600000</td>\n",
        "      <td>   0.955511</td>\n",
        "      <td>   2.600000</td>\n",
        "    </tr>\n",
        "    <tr>\n",
        "      <th>50%</th>\n",
        "      <td> 119</td>\n",
        "      <td> 392500</td>\n",
        "      <td>   3.900000</td>\n",
        "      <td>   1.360977</td>\n",
        "      <td>   3.900000</td>\n",
        "    </tr>\n",
        "    <tr>\n",
        "      <th>75%</th>\n",
        "      <td> 119</td>\n",
        "      <td> 392500</td>\n",
        "      <td>   5.600000</td>\n",
        "      <td>   1.722767</td>\n",
        "      <td>   5.600000</td>\n",
        "    </tr>\n",
        "    <tr>\n",
        "      <th>max</th>\n",
        "      <td> 119</td>\n",
        "      <td> 392500</td>\n",
        "      <td>  23.600000</td>\n",
        "      <td>   3.161247</td>\n",
        "      <td>  23.600000</td>\n",
        "    </tr>\n",
        "  </tbody>\n",
        "</table>\n",
        "</div>"
       ],
       "metadata": {},
       "output_type": "pyout",
       "prompt_number": 571,
       "text": [
        "       sampsize  popsize       radon    logradon  radon_lowbound\n",
        "count       119      119  119.000000  119.000000      119.000000\n",
        "mean        119   392500    4.640336    1.315023        4.631933\n",
        "std           0        0    3.396616    0.684494        3.407542\n",
        "min         119   392500    0.500000   -0.693147        0.000000\n",
        "25%         119   392500    2.600000    0.955511        2.600000\n",
        "50%         119   392500    3.900000    1.360977        3.900000\n",
        "75%         119   392500    5.600000    1.722767        5.600000\n",
        "max         119   392500   23.600000    3.161247       23.600000"
       ]
      }
     ],
     "prompt_number": 571
    },
    {
     "cell_type": "markdown",
     "metadata": {},
     "source": [
      "###Houses with radon ==0.5"
     ]
    },
    {
     "cell_type": "code",
     "collapsed": false,
     "input": [
      "print \"total =\", len(radondf)\n",
      "print \"total 0.5 =\", len(radondf[radondf.radon==0.5])"
     ],
     "language": "python",
     "metadata": {},
     "outputs": [
      {
       "output_type": "stream",
       "stream": "stdout",
       "text": [
        "total = 1003\n",
        "total 0.5 = 26\n"
       ]
      }
     ],
     "prompt_number": 585
    },
    {
     "cell_type": "code",
     "collapsed": false,
     "input": [
      "# Set data\n",
      "values = hendf['radon']\n",
      "radon_array = values.values\n",
      "rvs = radon_array \n",
      "# Plot histogram\n",
      "n, bins, patches = plt.hist(rvs, bins=20, normed=True) \n",
      "# Fit a curve to the variates\n",
      "shape, loc, scale = stats.lognorm.fit(rvs, floc=0) \n",
      "# Mean of log(X)\n",
      "mu = np.log(scale) \n",
      "# Standard deviation of log(X)\n",
      "sigma = shape \n",
      "# Geometric mean == median\n",
      "M = np.exp(mu) \n",
      "# Geometric standard deviation\n",
      "s = np.exp(sigma) \n",
      "# Plot figure of results\n",
      "x = np.linspace(rvs.min(), rvs.max(), num=400)\n",
      "# Plot fitted curve\n",
      "plt.plot(x, stats.lognorm.pdf(x, shape, loc=0, scale=scale), 'r', linewidth=3) \n",
      "\n",
      "ax = plt.gca() \n",
      "txt = plt.text(0.9, 0.9, 'M = %.2f\\ns = %.2f' % (M, s), horizontalalignment='right', \n",
      "                size='large', verticalalignment='top', transform=ax.transAxes)"
     ],
     "language": "python",
     "metadata": {},
     "outputs": [
      {
       "metadata": {},
       "output_type": "display_data",
       "png": "[encoded data removed]",
       "text": [
        "<matplotlib.figure.Figure at 0x11316a4d0>"
       ]
      }
     ],
     "prompt_number": 573
    },
    {
     "cell_type": "code",
     "collapsed": false,
     "input": [
      "values = hendf['radon_lowbound']\n",
      "radon_array = values.values\n",
      "# Set data\n",
      "rvs = radon_array \n",
      "# Plot histogram\n",
      "n, bins, patches = plt.hist(rvs, bins=20, normed=True) \n",
      "# Fit a curve to the variates\n",
      "shape, loc, scale = stats.lognorm.fit(rvs, floc=0) \n",
      "# Mean of log(X)\n",
      "mu = np.log(scale) \n",
      "# Standard deviation of log(X)\n",
      "sigma = shape \n",
      "# Geometric mean == median\n",
      "M = np.exp(mu) \n",
      "# Geometric standard deviation\n",
      "s = np.exp(sigma) \n",
      "# Plot figure of results\n",
      "x = np.linspace(rvs.min(), rvs.max(), num=400)\n",
      "# Plot fitted curve\n",
      "plt.plot(x, stats.lognorm.pdf(x, shape, loc=0, scale=scale), 'r', linewidth=3) \n",
      "\n",
      "ax = plt.gca() \n",
      "txt = plt.text(0.9, 0.9, 'M = %.2f\\ns = %.2f' % (M, s), horizontalalignment='right', \n",
      "                size='large', verticalalignment='top', transform=ax.transAxes)"
     ],
     "language": "python",
     "metadata": {},
     "outputs": [
      {
       "metadata": {},
       "output_type": "display_data",
       "png": "[encoded data removed]",
       "text": [
        "<matplotlib.figure.Figure at 0x112fd3b90>"
       ]
      }
     ],
     "prompt_number": 574
    },
    {
     "cell_type": "markdown",
     "metadata": {},
     "source": [
      "- Mean: (3.72, 3.85)\n",
      "- SD: (1.89, 1.98)"
     ]
    },
    {
     "cell_type": "code",
     "collapsed": false,
     "input": [],
     "language": "python",
     "metadata": {},
     "outputs": [],
     "prompt_number": 574
    }
   ],
   "metadata": {}
  }
 ]
}